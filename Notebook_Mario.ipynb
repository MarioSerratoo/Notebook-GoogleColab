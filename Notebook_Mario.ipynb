{
  "cells": [
    {
      "cell_type": "markdown",
      "source": [
        "<h5> Jupyter Lab es un editor online basado en web que te permite trabajar con\n",
        "documentos como los Jupyter notebooks, editores de textos, terminales y componentes custom, de forma flexible, integrada y extensible.\n",
        "\n",
        "- Funciones principales y operaciones comunes\n",
        "Información sobre las características clave de JupyterLab En las secciones siguientes se proporcionan instrucciones sobre la realización de operaciones comunes:\n",
        "\n",
        "* Acceso a JupyterLab\n",
        "* Interfaz de JupyterLab\n",
        "* Celdas de código\n",
        "* Kernels\n",
        "* Sesiones del núcleo\n",
        "* Iniciador\n"
      ],
      "metadata": {
        "id": "gyMjuwHga2iO"
      }
    },
    {
      "cell_type": "code",
      "source": [
        "import matplotlib.pyplot as plt\n",
        "import numpy as np\n",
        "from numpy.polynomial import Polynomial\n",
        "import pandas as pd"
      ],
      "metadata": {
        "id": "_f6T-TSoH098"
      },
      "execution_count": null,
      "outputs": []
    },
    {
      "cell_type": "code",
      "source": [
        "def poly(coeficientes):\n",
        "  return lambda x: sum([coef*x**i for i, coef in enumerate(coeficientes)])\n",
        "#log2(x)\n",
        "f= lambda x: np.log2(x)\n",
        "#1+x+2*x**2\n",
        "g= lambda x: 1+x+2*x**2\n",
        "#Cualquier polinomica\n",
        "h=poly([1,2,1])#1+2*x+x**2\n",
        "h2=Polynomial([1,2,1])\n",
        "\n",
        "xdis=np.arange(0.01,2,0.2)\n",
        "x=np.linspace(0.01,2,200)\n",
        "\n",
        "h2.roots()\n",
        "h2.deriv()"
      ],
      "metadata": {
        "colab": {
          "base_uri": "https://localhost:8080/",
          "height": 38
        },
        "id": "5-uBp76fJzOu",
        "outputId": "188415a4-2a03-4cf2-dbe2-6549db90a2af"
      },
      "execution_count": null,
      "outputs": [
        {
          "output_type": "execute_result",
          "data": {
            "text/plain": [
              "Polynomial([2., 2.], domain=[-1.,  1.], window=[-1.,  1.])"
            ],
            "text/latex": "$x \\mapsto \\text{2.0} + \\text{2.0}\\,x$"
          },
          "metadata": {},
          "execution_count": 26
        }
      ]
    },
    {
      "cell_type": "code",
      "source": [
        "#creacion de grafica\n",
        "plt.title(\"Gráfica de funciones de prueba\")\n",
        "plt.grid()\n",
        "plt.axhline(y=0,color=\"y\")\n",
        "plt.axvline(x=0,color=\"r\")\n",
        "plt.plot(x,f(x))\n",
        "plt.plot(xdis,g(xdis),\"p\")\n",
        "plt.plot(x,h2(x))\n"
      ],
      "metadata": {
        "colab": {
          "base_uri": "https://localhost:8080/",
          "height": 298
        },
        "id": "KFqsNt1cNUBZ",
        "outputId": "176f334f-64b4-4c99-d573-2e92e6ad58a5"
      },
      "execution_count": null,
      "outputs": [
        {
          "output_type": "execute_result",
          "data": {
            "text/plain": [
              "[<matplotlib.lines.Line2D at 0x7f164177de10>]"
            ]
          },
          "metadata": {},
          "execution_count": 49
        },
        {
          "output_type": "display_data",
          "data": {
            "text/plain": [
              "<Figure size 432x288 with 1 Axes>"
            ],
            "image/png": "[encoded data removed]"
          },
          "metadata": {
            "needs_background": "light"
          }
        }
      ]
    }
  ],
  "metadata": {
    "colab": {
      "collapsed_sections": [],
      "provenance": []
    },
    "kernelspec": {
      "display_name": "Python 3",
      "name": "python3"
    }
  },
  "nbformat": 4,
  "nbformat_minor": 0
}